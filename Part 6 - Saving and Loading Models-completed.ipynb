{
 "cells": [
  {
   "cell_type": "markdown",
   "metadata": {},
   "source": [
    "# Saving and Loading Models\n",
    "\n",
    "In this notebook, I'll show you how to save and load models with PyTorch. This is important because you'll often want to load previously trained models to use in making predictions or to continue training on new data."
   ]
  },
  {
   "cell_type": "code",
   "execution_count": 1,
   "metadata": {},
   "outputs": [],
   "source": [
    "%matplotlib inline\n",
    "%config InlineBackend.figure_format = 'retina'\n",
    "\n",
    "import matplotlib.pyplot as plt\n",
    "\n",
    "import torch\n",
    "from torch import nn\n",
    "from torch import optim\n",
    "import torch.nn.functional as F\n",
    "from torchvision import datasets, transforms\n",
    "\n",
    "import helper\n",
    "import fc_model"
   ]
  },
  {
   "cell_type": "code",
   "execution_count": 2,
   "metadata": {},
   "outputs": [],
   "source": [
    "# Define a transform to normalize the data\n",
    "transform = transforms.Compose([transforms.ToTensor(),\n",
    "                                transforms.Normalize((0.5, 0.5, 0.5), (0.5, 0.5, 0.5))])\n",
    "# Download and load the training data\n",
    "trainset = datasets.FashionMNIST('F_MNIST_data/', download=True, train=True, transform=transform)\n",
    "trainloader = torch.utils.data.DataLoader(trainset, batch_size=64, shuffle=True)\n",
    "\n",
    "# Download and load the test data\n",
    "testset = datasets.FashionMNIST('F_MNIST_data/', download=True, train=False, transform=transform)\n",
    "testloader = torch.utils.data.DataLoader(testset, batch_size=64, shuffle=True)"
   ]
  },
  {
   "cell_type": "markdown",
   "metadata": {},
   "source": [
    "Here we can see one of the images."
   ]
  },
  {
   "cell_type": "code",
   "execution_count": 4,
   "metadata": {},
   "outputs": [
    {
     "data": {
      "image/png": "[encoded data removed]",
      "text/plain": [
       "<matplotlib.figure.Figure at 0x7fcef0a0c320>"
      ]
     },
     "metadata": {
      "image/png": {
       "height": 233,
       "width": 233
      },
      "needs_background": "light"
     },
     "output_type": "display_data"
    }
   ],
   "source": [
    "image, label = next(iter(trainloader))\n",
    "helper.imshow(image[0,:]);"
   ]
  },
  {
   "cell_type": "markdown",
   "metadata": {},
   "source": [
    "# Train a network\n",
    "\n",
    "To make things more concise here, I moved the model architecture and training code from the last part to a file called `fc_model`. Importing this, we can easily create a fully-connected network with `fc_model.Network`, and train the network using `fc_model.train`. I'll use this model (once it's trained) to demonstrate how we can save and load models."
   ]
  },
  {
   "cell_type": "code",
   "execution_count": 5,
   "metadata": {},
   "outputs": [],
   "source": [
    "# Create the network, define the criterion and optimizer\n",
    "model = fc_model.Network(784, 10, [512, 256, 128])\n",
    "criterion = nn.NLLLoss()\n",
    "optimizer = optim.Adam(model.parameters(), lr=0.001)"
   ]
  },
  {
   "cell_type": "code",
   "execution_count": 6,
   "metadata": {},
   "outputs": [
    {
     "name": "stdout",
     "output_type": "stream",
     "text": [
      "Epoch: 1/2..  Training Loss: 1.775..  Test Loss: 1.043..  Test Accuracy: 0.663\n",
      "Epoch: 1/2..  Training Loss: 1.036..  Test Loss: 0.723..  Test Accuracy: 0.735\n",
      "Epoch: 1/2..  Training Loss: 0.851..  Test Loss: 0.689..  Test Accuracy: 0.739\n",
      "Epoch: 1/2..  Training Loss: 0.826..  Test Loss: 0.641..  Test Accuracy: 0.753\n",
      "Epoch: 1/2..  Training Loss: 0.738..  Test Loss: 0.646..  Test Accuracy: 0.761\n",
      "Epoch: 1/2..  Training Loss: 0.707..  Test Loss: 0.615..  Test Accuracy: 0.762\n",
      "Epoch: 1/2..  Training Loss: 0.701..  Test Loss: 0.583..  Test Accuracy: 0.781\n",
      "Epoch: 1/2..  Training Loss: 0.715..  Test Loss: 0.573..  Test Accuracy: 0.778\n",
      "Epoch: 1/2..  Training Loss: 0.660..  Test Loss: 0.560..  Test Accuracy: 0.792\n",
      "Epoch: 1/2..  Training Loss: 0.660..  Test Loss: 0.575..  Test Accuracy: 0.783\n",
      "Epoch: 1/2..  Training Loss: 0.657..  Test Loss: 0.564..  Test Accuracy: 0.787\n",
      "Epoch: 1/2..  Training Loss: 0.634..  Test Loss: 0.548..  Test Accuracy: 0.802\n",
      "Epoch: 1/2..  Training Loss: 0.604..  Test Loss: 0.513..  Test Accuracy: 0.815\n",
      "Epoch: 1/2..  Training Loss: 0.628..  Test Loss: 0.531..  Test Accuracy: 0.809\n",
      "Epoch: 1/2..  Training Loss: 0.601..  Test Loss: 0.518..  Test Accuracy: 0.806\n",
      "Epoch: 1/2..  Training Loss: 0.616..  Test Loss: 0.537..  Test Accuracy: 0.798\n",
      "Epoch: 1/2..  Training Loss: 0.575..  Test Loss: 0.520..  Test Accuracy: 0.810\n",
      "Epoch: 1/2..  Training Loss: 0.594..  Test Loss: 0.514..  Test Accuracy: 0.811\n",
      "Epoch: 1/2..  Training Loss: 0.560..  Test Loss: 0.507..  Test Accuracy: 0.815\n",
      "Epoch: 1/2..  Training Loss: 0.580..  Test Loss: 0.495..  Test Accuracy: 0.818\n",
      "Epoch: 1/2..  Training Loss: 0.570..  Test Loss: 0.491..  Test Accuracy: 0.822\n",
      "Epoch: 1/2..  Training Loss: 0.559..  Test Loss: 0.479..  Test Accuracy: 0.827\n",
      "Epoch: 1/2..  Training Loss: 0.595..  Test Loss: 0.513..  Test Accuracy: 0.813\n",
      "Epoch: 2/2..  Training Loss: 0.583..  Test Loss: 0.501..  Test Accuracy: 0.817\n",
      "Epoch: 2/2..  Training Loss: 0.586..  Test Loss: 0.498..  Test Accuracy: 0.824\n",
      "Epoch: 2/2..  Training Loss: 0.570..  Test Loss: 0.471..  Test Accuracy: 0.829\n",
      "Epoch: 2/2..  Training Loss: 0.543..  Test Loss: 0.479..  Test Accuracy: 0.826\n",
      "Epoch: 2/2..  Training Loss: 0.574..  Test Loss: 0.464..  Test Accuracy: 0.830\n",
      "Epoch: 2/2..  Training Loss: 0.539..  Test Loss: 0.457..  Test Accuracy: 0.830\n",
      "Epoch: 2/2..  Training Loss: 0.550..  Test Loss: 0.470..  Test Accuracy: 0.828\n",
      "Epoch: 2/2..  Training Loss: 0.503..  Test Loss: 0.476..  Test Accuracy: 0.829\n",
      "Epoch: 2/2..  Training Loss: 0.491..  Test Loss: 0.471..  Test Accuracy: 0.831\n",
      "Epoch: 2/2..  Training Loss: 0.560..  Test Loss: 0.462..  Test Accuracy: 0.829\n",
      "Epoch: 2/2..  Training Loss: 0.559..  Test Loss: 0.469..  Test Accuracy: 0.825\n",
      "Epoch: 2/2..  Training Loss: 0.537..  Test Loss: 0.463..  Test Accuracy: 0.831\n",
      "Epoch: 2/2..  Training Loss: 0.491..  Test Loss: 0.453..  Test Accuracy: 0.839\n",
      "Epoch: 2/2..  Training Loss: 0.520..  Test Loss: 0.469..  Test Accuracy: 0.827\n",
      "Epoch: 2/2..  Training Loss: 0.538..  Test Loss: 0.445..  Test Accuracy: 0.835\n",
      "Epoch: 2/2..  Training Loss: 0.509..  Test Loss: 0.460..  Test Accuracy: 0.830\n",
      "Epoch: 2/2..  Training Loss: 0.510..  Test Loss: 0.467..  Test Accuracy: 0.832\n",
      "Epoch: 2/2..  Training Loss: 0.559..  Test Loss: 0.442..  Test Accuracy: 0.840\n",
      "Epoch: 2/2..  Training Loss: 0.519..  Test Loss: 0.459..  Test Accuracy: 0.831\n",
      "Epoch: 2/2..  Training Loss: 0.519..  Test Loss: 0.439..  Test Accuracy: 0.839\n",
      "Epoch: 2/2..  Training Loss: 0.520..  Test Loss: 0.429..  Test Accuracy: 0.841\n",
      "Epoch: 2/2..  Training Loss: 0.547..  Test Loss: 0.449..  Test Accuracy: 0.836\n",
      "Epoch: 2/2..  Training Loss: 0.508..  Test Loss: 0.441..  Test Accuracy: 0.840\n"
     ]
    }
   ],
   "source": [
    "fc_model.train(model, trainloader, testloader, criterion, optimizer, epochs=2)"
   ]
  },
  {
   "cell_type": "markdown",
   "metadata": {},
   "source": [
    "## Saving and loading networks\n",
    "\n",
    "As you can imagine, it's impractical to train a network every time you need to use it. Instead, we can save trained networks then load them later to train more or use them for predictions.\n",
    "\n",
    "The parameters for PyTorch networks are stored in a model's `state_dict`. We can see the state dict contains the weight and bias matrices for each of our layers."
   ]
  },
  {
   "cell_type": "code",
   "execution_count": 7,
   "metadata": {},
   "outputs": [
    {
     "name": "stdout",
     "output_type": "stream",
     "text": [
      "Our model: \n",
      "\n",
      " Network(\n",
      "  (hidden_layers): ModuleList(\n",
      "    (0): Linear(in_features=784, out_features=512, bias=True)\n",
      "    (1): Linear(in_features=512, out_features=256, bias=True)\n",
      "    (2): Linear(in_features=256, out_features=128, bias=True)\n",
      "  )\n",
      "  (output): Linear(in_features=128, out_features=10, bias=True)\n",
      "  (dropout): Dropout(p=0.5)\n",
      ") \n",
      "\n",
      "The state dict keys: \n",
      "\n",
      " odict_keys(['hidden_layers.0.weight', 'hidden_layers.0.bias', 'hidden_layers.1.weight', 'hidden_layers.1.bias', 'hidden_layers.2.weight', 'hidden_layers.2.bias', 'output.weight', 'output.bias'])\n"
     ]
    }
   ],
   "source": [
    "print(\"Our model: \\n\\n\", model, '\\n')\n",
    "print(\"The state dict keys: \\n\\n\", model.state_dict().keys())"
   ]
  },
  {
   "cell_type": "markdown",
   "metadata": {},
   "source": [
    "The simplest thing to do is simply save the state dict with `torch.save`. For example, we can save it to a file `'checkpoint.pth'`."
   ]
  },
  {
   "cell_type": "code",
   "execution_count": 8,
   "metadata": {},
   "outputs": [],
   "source": [
    "torch.save(model.state_dict(), 'checkpoint.pth')"
   ]
  },
  {
   "cell_type": "markdown",
   "metadata": {},
   "source": [
    "Then we can load the state dict with `torch.load`."
   ]
  },
  {
   "cell_type": "code",
   "execution_count": 9,
   "metadata": {},
   "outputs": [
    {
     "name": "stdout",
     "output_type": "stream",
     "text": [
      "odict_keys(['hidden_layers.0.weight', 'hidden_layers.0.bias', 'hidden_layers.1.weight', 'hidden_layers.1.bias', 'hidden_layers.2.weight', 'hidden_layers.2.bias', 'output.weight', 'output.bias'])\n"
     ]
    }
   ],
   "source": [
    "state_dict = torch.load('checkpoint.pth')\n",
    "print(state_dict.keys())"
   ]
  },
  {
   "cell_type": "markdown",
   "metadata": {},
   "source": [
    "And to load the state dict in to the network, you do `model.load_state_dict(state_dict)`."
   ]
  },
  {
   "cell_type": "code",
   "execution_count": 10,
   "metadata": {},
   "outputs": [],
   "source": [
    "model.load_state_dict(state_dict)"
   ]
  },
  {
   "cell_type": "markdown",
   "metadata": {},
   "source": [
    "Seems pretty straightforward, but as usual it's a bit more complicated. Loading the state dict works only if the model architecture is exactly the same as the checkpoint architecture. If I create a model with a different architecture, this fails."
   ]
  },
  {
   "cell_type": "code",
   "execution_count": 11,
   "metadata": {},
   "outputs": [
    {
     "ename": "RuntimeError",
     "evalue": "Error(s) in loading state_dict for Network:\n\tWhile copying the parameter named \"hidden_layers.0.weight\", whose dimensions in the model are torch.Size([400, 784]) and whose dimensions in the checkpoint are torch.Size([512, 784]).\n\tWhile copying the parameter named \"hidden_layers.0.bias\", whose dimensions in the model are torch.Size([400]) and whose dimensions in the checkpoint are torch.Size([512]).\n\tWhile copying the parameter named \"hidden_layers.1.weight\", whose dimensions in the model are torch.Size([200, 400]) and whose dimensions in the checkpoint are torch.Size([256, 512]).\n\tWhile copying the parameter named \"hidden_layers.1.bias\", whose dimensions in the model are torch.Size([200]) and whose dimensions in the checkpoint are torch.Size([256]).\n\tWhile copying the parameter named \"hidden_layers.2.weight\", whose dimensions in the model are torch.Size([100, 200]) and whose dimensions in the checkpoint are torch.Size([128, 256]).\n\tWhile copying the parameter named \"hidden_layers.2.bias\", whose dimensions in the model are torch.Size([100]) and whose dimensions in the checkpoint are torch.Size([128]).\n\tWhile copying the parameter named \"output.weight\", whose dimensions in the model are torch.Size([10, 100]) and whose dimensions in the checkpoint are torch.Size([10, 128]).",
     "output_type": "error",
     "traceback": [
      "\u001b[0;31m---------------------------------------------------------------------------\u001b[0m",
      "\u001b[0;31mRuntimeError\u001b[0m                              Traceback (most recent call last)",
      "\u001b[0;32m<ipython-input-11-d859c59ebec0>\u001b[0m in \u001b[0;36m<module>\u001b[0;34m()\u001b[0m\n\u001b[1;32m      2\u001b[0m \u001b[0mmodel\u001b[0m \u001b[0;34m=\u001b[0m \u001b[0mfc_model\u001b[0m\u001b[0;34m.\u001b[0m\u001b[0mNetwork\u001b[0m\u001b[0;34m(\u001b[0m\u001b[0;36m784\u001b[0m\u001b[0;34m,\u001b[0m \u001b[0;36m10\u001b[0m\u001b[0;34m,\u001b[0m \u001b[0;34m[\u001b[0m\u001b[0;36m400\u001b[0m\u001b[0;34m,\u001b[0m \u001b[0;36m200\u001b[0m\u001b[0;34m,\u001b[0m \u001b[0;36m100\u001b[0m\u001b[0;34m]\u001b[0m\u001b[0;34m)\u001b[0m\u001b[0;34m\u001b[0m\u001b[0m\n\u001b[1;32m      3\u001b[0m \u001b[0;31m# This will throw an error because the tensor sizes are wrong!\u001b[0m\u001b[0;34m\u001b[0m\u001b[0;34m\u001b[0m\u001b[0m\n\u001b[0;32m----> 4\u001b[0;31m \u001b[0mmodel\u001b[0m\u001b[0;34m.\u001b[0m\u001b[0mload_state_dict\u001b[0m\u001b[0;34m(\u001b[0m\u001b[0mstate_dict\u001b[0m\u001b[0;34m)\u001b[0m\u001b[0;34m\u001b[0m\u001b[0m\n\u001b[0m",
      "\u001b[0;32m/opt/conda/lib/python3.6/site-packages/torch/nn/modules/module.py\u001b[0m in \u001b[0;36mload_state_dict\u001b[0;34m(self, state_dict, strict)\u001b[0m\n\u001b[1;32m    719\u001b[0m         \u001b[0;32mif\u001b[0m \u001b[0mlen\u001b[0m\u001b[0;34m(\u001b[0m\u001b[0merror_msgs\u001b[0m\u001b[0;34m)\u001b[0m \u001b[0;34m>\u001b[0m \u001b[0;36m0\u001b[0m\u001b[0;34m:\u001b[0m\u001b[0;34m\u001b[0m\u001b[0m\n\u001b[1;32m    720\u001b[0m             raise RuntimeError('Error(s) in loading state_dict for {}:\\n\\t{}'.format(\n\u001b[0;32m--> 721\u001b[0;31m                                self.__class__.__name__, \"\\n\\t\".join(error_msgs)))\n\u001b[0m\u001b[1;32m    722\u001b[0m \u001b[0;34m\u001b[0m\u001b[0m\n\u001b[1;32m    723\u001b[0m     \u001b[0;32mdef\u001b[0m \u001b[0mparameters\u001b[0m\u001b[0;34m(\u001b[0m\u001b[0mself\u001b[0m\u001b[0;34m)\u001b[0m\u001b[0;34m:\u001b[0m\u001b[0;34m\u001b[0m\u001b[0m\n",
      "\u001b[0;31mRuntimeError\u001b[0m: Error(s) in loading state_dict for Network:\n\tWhile copying the parameter named \"hidden_layers.0.weight\", whose dimensions in the model are torch.Size([400, 784]) and whose dimensions in the checkpoint are torch.Size([512, 784]).\n\tWhile copying the parameter named \"hidden_layers.0.bias\", whose dimensions in the model are torch.Size([400]) and whose dimensions in the checkpoint are torch.Size([512]).\n\tWhile copying the parameter named \"hidden_layers.1.weight\", whose dimensions in the model are torch.Size([200, 400]) and whose dimensions in the checkpoint are torch.Size([256, 512]).\n\tWhile copying the parameter named \"hidden_layers.1.bias\", whose dimensions in the model are torch.Size([200]) and whose dimensions in the checkpoint are torch.Size([256]).\n\tWhile copying the parameter named \"hidden_layers.2.weight\", whose dimensions in the model are torch.Size([100, 200]) and whose dimensions in the checkpoint are torch.Size([128, 256]).\n\tWhile copying the parameter named \"hidden_layers.2.bias\", whose dimensions in the model are torch.Size([100]) and whose dimensions in the checkpoint are torch.Size([128]).\n\tWhile copying the parameter named \"output.weight\", whose dimensions in the model are torch.Size([10, 100]) and whose dimensions in the checkpoint are torch.Size([10, 128])."
     ]
    }
   ],
   "source": [
    "# Try this\n",
    "model = fc_model.Network(784, 10, [400, 200, 100])\n",
    "# This will throw an error because the tensor sizes are wrong!\n",
    "model.load_state_dict(state_dict)"
   ]
  },
  {
   "cell_type": "markdown",
   "metadata": {},
   "source": [
    "This means we need to rebuild the model exactly as it was when trained. Information about the model architecture needs to be saved in the checkpoint, along with the state dict. To do this, you build a dictionary with all the information you need to compeletely rebuild the model."
   ]
  },
  {
   "cell_type": "code",
   "execution_count": 13,
   "metadata": {},
   "outputs": [
    {
     "data": {
      "text/plain": [
       "{'input_size': 784,\n",
       " 'output_size': 10,\n",
       " 'hidden_layers': [400, 200, 100],\n",
       " 'state_dict': OrderedDict([('hidden_layers.0.weight',\n",
       "               tensor([[-6.1530e-03,  1.7954e-02, -1.8003e-02,  ...,  2.4397e-02,\n",
       "                         2.0322e-02,  6.8160e-03],\n",
       "                       [ 1.3834e-02, -2.1065e-02, -1.9714e-02,  ...,  2.4488e-02,\n",
       "                        -2.9968e-02, -3.5543e-02],\n",
       "                       [ 3.5447e-03, -2.4800e-02, -2.7258e-02,  ...,  8.3403e-03,\n",
       "                         1.2946e-02,  7.2235e-03],\n",
       "                       ...,\n",
       "                       [ 2.5828e-02, -3.1561e-02,  2.0027e-04,  ..., -8.5536e-05,\n",
       "                         6.9928e-03,  1.2944e-02],\n",
       "                       [-2.1731e-02, -3.4359e-02, -3.4394e-02,  ..., -3.6110e-03,\n",
       "                         2.8124e-03, -2.6969e-02],\n",
       "                       [ 3.2744e-02, -2.4478e-02,  1.3083e-03,  ..., -2.6804e-03,\n",
       "                         2.2203e-02, -1.9292e-02]])),\n",
       "              ('hidden_layers.0.bias', tensor(1.00000e-02 *\n",
       "                      [ 0.6536,  1.9295,  1.5482, -3.0107, -0.8493, -0.2340,  0.6310,\n",
       "                        3.3861, -1.2601, -2.5743, -3.4511, -0.7632,  2.9945,  0.1977,\n",
       "                        0.3025, -2.8075,  3.1868, -3.0820, -1.1533, -3.2556, -0.9531,\n",
       "                       -1.5852,  0.4091,  2.8367,  0.8592, -2.1634, -0.4439, -3.3396,\n",
       "                        2.2235, -1.7987, -0.0859, -0.1337, -0.5987, -2.9262,  1.5333,\n",
       "                        2.3933, -2.2629, -2.4527,  1.2733, -0.9185,  0.1773, -2.3131,\n",
       "                       -2.6254, -1.2391,  3.4549,  3.4577,  1.6920,  2.9038, -2.2802,\n",
       "                       -2.4455, -3.1967, -1.7946, -2.2836, -0.8990,  2.5587, -3.5665,\n",
       "                        3.2945, -0.7396,  3.3478,  1.5736, -1.7792, -1.4367,  0.2853,\n",
       "                       -2.4512, -1.4524,  3.2929,  2.0621,  1.0965,  3.1492,  0.7511,\n",
       "                       -1.3793,  0.9811, -3.4737, -2.5633,  1.6251,  0.7118,  1.2788,\n",
       "                        1.7035,  0.5299,  3.4661,  2.7532, -1.9073, -3.1975,  2.5796,\n",
       "                       -2.3127,  0.2391, -0.8061, -1.1824, -1.1875, -3.4050, -1.6285,\n",
       "                       -0.1050, -3.2508,  2.7210, -1.8335,  3.3670,  2.5192,  1.7977,\n",
       "                       -2.9767,  2.3126,  3.2481, -3.4169, -0.2082,  2.0138, -1.2695,\n",
       "                        1.7628,  2.5978, -3.1439,  0.6304,  1.8712,  0.5317,  2.2185,\n",
       "                       -1.8031,  1.5718,  0.8000,  1.1666,  1.6176,  3.2670,  3.4879,\n",
       "                       -0.2930, -3.4189,  1.2738, -0.8677,  2.7016,  2.7734, -2.8806,\n",
       "                       -1.3485, -2.6084, -0.9781, -0.8381,  1.4457,  2.1441,  1.6751,\n",
       "                       -0.1050,  3.4332, -0.6543,  3.3088,  2.0270, -2.7905,  3.1962,\n",
       "                        3.1407, -1.3640,  1.3121,  3.3108,  1.4844,  1.0018,  2.4204,\n",
       "                       -0.5085,  2.2072,  2.0636,  2.7013, -0.5269,  2.3663,  2.2391,\n",
       "                        1.0602, -0.1481,  0.3613,  1.8857,  1.2371,  2.7003, -0.9472,\n",
       "                        2.3761,  1.2477,  1.5093,  0.8569,  0.9317,  1.2296,  2.6678,\n",
       "                        3.3611,  1.9772, -2.7834, -1.5126, -3.4855,  3.1416,  1.4215,\n",
       "                        2.0931, -0.9435, -0.3849, -0.3137, -1.5144, -1.9053,  1.1913,\n",
       "                       -2.0751,  1.5283,  1.8665,  2.5576,  1.6136, -2.3483, -3.2856,\n",
       "                       -3.3802,  1.2332,  3.2891, -3.3537, -1.9716, -0.6533, -2.9807,\n",
       "                        1.2048, -2.4355, -2.4210,  1.9668, -0.2911, -0.1057, -1.2633,\n",
       "                        2.0659, -2.1954,  3.2054, -0.2301,  1.4849,  1.8446,  3.5573,\n",
       "                       -3.1130,  1.6654,  1.0195,  3.5575, -0.1539,  0.4212, -0.3523,\n",
       "                       -1.2786,  2.1030,  0.2255,  0.7462,  1.4036, -2.9868,  3.2727,\n",
       "                        0.2662,  1.5224,  0.3607, -3.1648,  2.2361, -2.0267,  2.6456,\n",
       "                        0.5831,  2.2201, -2.0196, -2.7822, -1.9666, -2.1455,  0.5002,\n",
       "                        0.8320, -1.4916,  3.0429,  1.1979,  3.2725, -1.8730,  0.5649,\n",
       "                       -0.4511,  2.7013,  0.5770, -1.0487,  1.0047,  0.9426, -1.6259,\n",
       "                        1.1042, -2.8300, -3.2938,  0.3474, -1.6297, -2.2554, -2.9040,\n",
       "                        3.5354, -2.6622,  2.8710, -2.9448,  2.6901, -2.1430, -2.2263,\n",
       "                       -2.0646, -3.0998, -0.5954, -3.3146, -3.4965,  3.3133, -2.3036,\n",
       "                        2.9587,  1.3262, -0.1839, -1.8531,  3.5110, -0.2076,  2.9426,\n",
       "                        1.3233, -3.0305, -3.2847, -2.6803, -1.2892, -2.2791, -3.3597,\n",
       "                        3.5340, -1.5402, -2.2357, -0.5621, -3.5495,  2.5820,  0.3182,\n",
       "                        2.1870,  3.4162,  2.2741, -2.2808,  0.7288, -0.5990,  0.8989,\n",
       "                        0.3306, -3.4757, -1.5296, -0.9814,  3.2080,  2.2146,  3.3182,\n",
       "                        0.6868,  1.0850, -2.3297,  1.5919,  2.1816,  3.5562,  1.8433,\n",
       "                       -0.4620,  0.1769,  0.0905,  2.7979, -0.6745,  1.3144, -0.1588,\n",
       "                        2.6203, -1.3875,  3.4487, -1.0057, -3.4305,  0.3938, -2.6250,\n",
       "                       -1.5489,  0.7993,  1.0922, -2.3492, -1.6704,  1.2407, -0.4369,\n",
       "                        1.4163, -2.9368, -3.3579,  2.2776, -2.1252,  2.6448,  0.2839,\n",
       "                       -2.2176, -2.8118,  1.4363, -0.1191, -3.0127, -2.3726, -0.9076,\n",
       "                        1.3204, -0.5719,  3.1350,  0.5664, -0.0328,  2.9690, -2.4098,\n",
       "                       -1.5379, -2.5766,  1.1922, -0.0507,  1.3581,  2.1478,  3.0812,\n",
       "                        2.1573, -1.0837,  0.2985, -1.2399,  2.1418,  0.3702,  3.0268,\n",
       "                        2.0697,  1.4633,  0.3531,  0.6181,  2.5188, -1.4840, -0.6183,\n",
       "                        0.4006, -3.4553, -0.8929,  1.9666, -1.2926, -1.1145,  2.0886,\n",
       "                       -1.5567, -1.9634, -0.6872, -1.7473, -1.9603, -1.4677, -2.3000,\n",
       "                       -3.5307,  1.3889, -3.2725,  3.2739,  3.0728, -3.4612, -2.3931,\n",
       "                        1.2378])),\n",
       "              ('hidden_layers.1.weight',\n",
       "               tensor([[ 1.7788e-02, -8.9327e-03,  4.3472e-02,  ...,  1.5540e-02,\n",
       "                        -2.6434e-02, -1.9085e-02],\n",
       "                       [ 2.0541e-02, -1.6133e-02, -3.6916e-02,  ...,  1.8442e-02,\n",
       "                         1.7092e-02,  3.6891e-02],\n",
       "                       [-5.9103e-03, -4.9082e-02, -3.0821e-02,  ..., -3.9748e-02,\n",
       "                        -2.6519e-02,  3.1287e-02],\n",
       "                       ...,\n",
       "                       [ 1.5354e-02, -1.9932e-02,  1.3169e-02,  ..., -2.2350e-02,\n",
       "                         1.6029e-02, -2.0821e-02],\n",
       "                       [ 4.7707e-02, -1.8756e-02, -1.9404e-03,  ...,  4.5088e-02,\n",
       "                         3.2360e-02, -4.9015e-02],\n",
       "                       [ 4.2081e-02,  3.9054e-02,  4.5573e-04,  ..., -2.5947e-02,\n",
       "                         3.8720e-02,  4.3899e-02]])),\n",
       "              ('hidden_layers.1.bias', tensor(1.00000e-02 *\n",
       "                      [ 1.5270, -3.8247,  3.6077,  3.0852,  1.4090,  1.7642, -0.7651,\n",
       "                        1.5615,  0.3885, -2.0028,  1.3774, -2.6100, -2.6157,  1.5799,\n",
       "                        0.6545, -1.2559,  1.3561,  4.0840, -2.7296, -0.2667,  2.0790,\n",
       "                        4.3179, -4.4611,  4.2933, -3.6910, -2.5716,  3.5237,  0.6153,\n",
       "                       -1.9309, -0.4801, -2.5293,  2.7212, -2.6553, -0.3477,  4.5383,\n",
       "                       -0.5824, -0.4406,  1.8600,  3.0431,  4.5054, -2.5217,  3.4132,\n",
       "                        4.5981, -2.6654,  3.4721,  3.0463, -4.5362,  0.5419,  1.6052,\n",
       "                       -3.4129,  1.5052,  2.6921,  2.0117,  2.7043, -2.6434, -0.1550,\n",
       "                       -0.3466,  1.1660,  0.2264, -4.3249,  4.4654, -0.3496, -0.8788,\n",
       "                        1.4081,  2.2607,  1.1548,  1.3241,  0.3730,  3.8376, -0.0518,\n",
       "                       -4.8913,  0.9589, -3.3968,  0.2505, -4.9587, -3.8589,  0.3467,\n",
       "                        1.0245, -0.4689, -1.9373, -3.7380, -0.6952, -4.7290,  4.1960,\n",
       "                       -1.0201, -0.9707, -2.4553, -4.7443, -0.9492,  2.7517, -0.0821,\n",
       "                       -0.1824, -2.8548, -4.1380, -4.8891,  2.4496, -3.7680,  4.4557,\n",
       "                       -3.3501, -3.1156, -3.5808,  4.8732, -3.7047, -3.4564,  4.5842,\n",
       "                        2.2553,  0.3170,  2.5510, -2.6758, -4.2257,  1.5501,  4.3673,\n",
       "                       -2.0349, -3.8182,  0.5276, -4.0841, -1.0355, -1.9000, -0.6232,\n",
       "                        2.7915, -0.4921, -1.5431, -4.7184,  2.6403,  1.4726, -2.0347,\n",
       "                        1.0883, -4.1946, -4.0687,  3.7939,  1.6452, -4.5862,  4.7548,\n",
       "                        4.4939, -2.1302, -0.0427,  0.4906,  2.6234, -0.8294,  1.4885,\n",
       "                        0.4123, -1.9420, -2.3015,  1.7732, -3.9327,  0.2145,  4.4704,\n",
       "                       -0.0380, -0.3467,  0.2130, -1.4890,  1.0741, -2.5085, -4.8076,\n",
       "                       -0.3457, -3.1480, -1.4041, -2.8984, -0.6806, -1.0040,  1.7517,\n",
       "                       -0.3907,  2.2400, -1.6347,  0.6838, -3.3148,  1.4932,  2.3961,\n",
       "                       -4.6520, -0.9867, -4.0994,  0.3634,  0.8025,  3.9032,  3.2189,\n",
       "                        4.2025, -2.4511, -2.9571,  4.4771,  4.4757, -0.2731, -1.8680,\n",
       "                        2.5773,  3.4327,  0.2458, -4.2340,  1.0581,  1.7525,  3.6027,\n",
       "                       -1.5680,  4.0758, -4.1800,  4.1793,  3.0770, -3.8910, -2.6531,\n",
       "                        3.3674,  3.4285, -0.9060,  3.6979])),\n",
       "              ('hidden_layers.2.weight',\n",
       "               tensor([[-4.3339e-02,  3.3643e-02, -3.5143e-03,  ...,  6.1274e-02,\n",
       "                         6.2280e-02, -5.8883e-02],\n",
       "                       [ 1.4644e-02,  6.8725e-03,  3.0496e-03,  ..., -3.5198e-02,\n",
       "                        -3.2593e-02, -6.1844e-02],\n",
       "                       [ 6.8038e-02, -5.2859e-02,  2.8450e-02,  ..., -1.7189e-02,\n",
       "                         4.6018e-02,  5.3776e-02],\n",
       "                       ...,\n",
       "                       [-1.7447e-02, -1.3797e-02,  5.8828e-03,  ..., -8.7848e-03,\n",
       "                        -5.7885e-02,  4.3028e-02],\n",
       "                       [ 3.0248e-02,  5.5870e-02,  1.1037e-02,  ..., -3.3855e-02,\n",
       "                         1.4440e-02, -6.5628e-02],\n",
       "                       [ 4.9553e-02, -1.5319e-02, -4.7921e-02,  ..., -5.8223e-02,\n",
       "                         6.9688e-02, -2.3442e-02]])),\n",
       "              ('hidden_layers.2.bias', tensor(1.00000e-02 *\n",
       "                      [ 1.9991, -1.8882, -2.2948, -2.7121, -5.6512,  6.0362,  6.0548,\n",
       "                        1.7042,  5.8344,  5.0401,  6.0559, -6.0314, -6.9684, -2.4878,\n",
       "                        6.7237, -1.0227, -0.5820, -2.3140,  2.8766,  1.2467,  5.4083,\n",
       "                       -5.5970, -4.3316, -6.9687, -4.3678, -1.1860,  4.9202, -3.5631,\n",
       "                       -2.7466, -1.1524, -5.0111, -4.0604,  1.2061,  2.2790, -2.1233,\n",
       "                        6.2811,  6.8648, -4.2411,  4.1675,  0.8231,  1.9818, -1.8685,\n",
       "                       -1.0239,  5.3168,  0.9828,  5.9431, -1.7495, -0.2981, -2.5869,\n",
       "                        5.3837, -2.9860,  0.1265,  5.2180, -6.8334, -3.2293,  2.2982,\n",
       "                        4.8251, -5.9135,  0.1276, -1.5711,  0.1348, -5.5691,  0.7220,\n",
       "                        5.3056,  2.8605, -6.5708,  4.8410,  6.5823, -1.7186, -1.9884,\n",
       "                        1.7812, -2.9352, -5.7477,  0.7793,  0.3212,  5.6817, -3.3633,\n",
       "                        4.5704, -1.2280, -6.2634,  0.5541,  5.1800, -5.6804,  6.6376,\n",
       "                        6.1100,  7.0560, -5.4244,  6.4659, -4.7958, -4.1232,  5.9026,\n",
       "                        1.3751,  5.1429,  3.6518, -0.8606, -2.7888,  6.0740,  1.1877,\n",
       "                       -5.2175,  5.2801])),\n",
       "              ('output.weight', tensor(1.00000e-02 *\n",
       "                      [[ 2.7115, -5.3742,  7.2229,  4.6294,  1.3724, -4.8908,  6.3545,\n",
       "                        -8.1097,  3.7362, -7.9861, -4.3996, -0.9013, -9.3189,  7.4723,\n",
       "                        -8.8086, -9.7125,  4.9299,  0.7432,  7.4860, -3.5440, -1.7629,\n",
       "                        -1.9860,  1.7522,  8.2021, -8.0161, -3.6139, -4.5905, -6.4981,\n",
       "                        -0.7317,  1.8679, -9.4787, -6.5520, -5.0617,  2.0957, -7.8599,\n",
       "                        -0.8299, -5.6566, -0.1158,  3.1835,  5.2469, -7.6972,  5.2011,\n",
       "                         2.8097, -2.4149,  9.3960, -5.4202, -5.3235, -1.9959,  0.2802,\n",
       "                         7.4219,  3.0153,  0.5776, -4.3820,  4.6932, -8.8853, -4.9312,\n",
       "                         1.0462, -7.9736, -1.9623, -0.5382, -5.8365, -7.5310,  3.4016,\n",
       "                        -2.7602,  3.0046,  4.8335,  4.2391,  6.5655,  2.6983, -6.6367,\n",
       "                        -8.3450, -2.4778, -7.4912, -3.8574,  4.3926, -5.7913, -0.6805,\n",
       "                         2.8766, -4.4044,  2.5428, -6.5016,  8.4591,  9.6259,  7.1056,\n",
       "                        -4.2717, -3.0538, -1.1617,  5.9652,  5.7116,  8.9764, -1.6554,\n",
       "                        -1.2067,  1.9600, -7.3549, -7.3106,  0.5620, -3.7946,  3.7177,\n",
       "                         9.7976,  4.9233],\n",
       "                       [-0.2936,  8.2964,  2.3000, -4.3766,  3.8151,  2.8216, -6.7969,\n",
       "                         3.0937,  6.0747, -0.1582,  3.6931, -7.8266,  7.2985,  0.3152,\n",
       "                        -2.2936,  6.2885, -8.2526,  4.8320, -5.9929, -3.0720, -6.6041,\n",
       "                         8.1787, -5.8542, -2.3862,  2.2880, -2.4705, -4.3727,  4.1049,\n",
       "                         2.8508, -8.6489, -4.3672,  9.3148,  2.5249,  6.6312, -2.8006,\n",
       "                         5.9829, -9.9520,  4.2367, -7.3678,  8.4119, -0.0715, -6.6227,\n",
       "                        -7.1581, -8.1165,  9.3258,  4.0432, -7.3299,  8.7198, -8.4765,\n",
       "                         9.9566,  5.2263,  8.7895, -7.3758,  7.9297, -2.9718, -6.2781,\n",
       "                        -8.3005,  5.9817,  1.7066, -7.0741, -4.1794, -0.5553,  9.3162,\n",
       "                        -1.4769,  8.7491, -4.0181,  3.6281,  7.2975,  6.6657, -4.6750,\n",
       "                        -8.2984,  9.0013, -7.6356, -0.7086, -9.2261, -2.0534,  8.3029,\n",
       "                        -6.0912,  9.3656, -4.1773,  8.2544,  3.3514,  8.5342,  9.4419,\n",
       "                        -2.7858,  0.3088,  6.5773, -0.1849,  5.3448,  7.4355,  5.6781,\n",
       "                        -2.5817,  3.5009, -7.4928, -5.0666, -5.2950, -3.5355, -2.3899,\n",
       "                        -8.4463,  4.9633],\n",
       "                       [ 6.9385, -0.6384,  4.2143, -9.9754, -6.7685,  1.1049,  6.8901,\n",
       "                        -4.2287, -6.2120, -6.3148,  4.8353, -2.1756, -1.9955, -2.1501,\n",
       "                        -3.0639,  2.0977, -9.1316, -9.5332,  0.7949,  2.2207, -8.2241,\n",
       "                         8.5143, -5.0811,  9.8098,  7.8657, -9.1247, -1.4586, -3.0188,\n",
       "                        -3.2716,  3.3994,  2.1411, -0.3178, -7.3972,  3.8187, -8.7437,\n",
       "                         4.6632,  6.7625, -5.5974, -1.0890,  8.0769, -3.7469,  4.9970,\n",
       "                         7.5734, -2.0793, -3.1696,  6.8049, -0.5418,  0.5501, -0.4315,\n",
       "                        -1.1461,  9.6848,  2.6969, -5.3197, -9.2776,  0.0915, -5.0044,\n",
       "                        -9.7842, -7.5074,  0.3203,  3.5052, -1.8334, -7.3817,  2.6283,\n",
       "                        -9.0350,  3.1727,  5.6013,  6.1673, -1.8031,  8.8655,  8.6700,\n",
       "                        -9.9315, -8.2455, -8.2827, -2.4442,  0.2070,  1.9301,  2.5590,\n",
       "                         8.6214, -6.0905, -8.0961, -9.3034, -6.8552, -2.0598,  1.4808,\n",
       "                         0.3015, -0.5031, -4.9949, -5.8237,  8.8030,  7.8371,  0.0426,\n",
       "                         5.4211,  0.0953,  2.3008,  6.3693,  3.2101,  8.2176,  4.6073,\n",
       "                        -7.2166,  4.9976],\n",
       "                       [-4.3957,  7.2508, -1.2953,  4.5985, -3.2394, -5.9010,  0.3353,\n",
       "                         3.9685,  0.1814, -2.7117, -8.2198, -5.0545,  5.1576,  0.0520,\n",
       "                        -0.8214, -8.4099,  2.4237, -4.3612,  2.4203,  6.3373,  2.1277,\n",
       "                        -7.5036,  4.2496, -3.2357,  9.7438,  2.7798,  9.5076, -1.0723,\n",
       "                        -5.4441, -3.6192, -6.6327,  3.1928,  0.9612, -6.3822, -0.6525,\n",
       "                         8.7781, -7.7124,  7.4574,  4.9171, -9.8828, -7.8890,  2.7301,\n",
       "                         3.1387, -1.8761, -3.1593, -5.5056,  1.5767, -9.0196, -8.6165,\n",
       "                        -8.6493, -6.7506,  2.7425, -5.0774,  6.7745, -0.9188,  4.0689,\n",
       "                         4.6305,  5.5343,  1.3287,  4.6939,  4.2980, -0.2133,  7.9060,\n",
       "                        -0.7644, -3.0682,  2.3937, -8.1277,  7.1881, -8.3185,  8.6556,\n",
       "                         2.9335, -0.6619,  1.3546,  6.4928, -9.3305, -1.0560, -2.9343,\n",
       "                         0.5731, -4.2625,  2.8998,  7.3838,  5.8199, -5.1315, -1.6496,\n",
       "                         0.1302,  9.6816, -7.6316, -6.1372,  2.2546, -2.8528,  8.1165,\n",
       "                        -7.8493,  9.5336,  9.0055,  7.9692,  5.0135,  6.5308, -6.0690,\n",
       "                         2.2747,  7.6051],\n",
       "                       [-0.7443,  4.7328,  1.5394,  6.4694,  0.7888, -8.7751,  1.0222,\n",
       "                         4.8230,  6.1754,  7.3499,  1.9127, -3.2598,  1.0920,  7.4621,\n",
       "                        -1.6602,  0.5581, -0.0408,  4.7820,  4.6630,  8.6760, -8.2210,\n",
       "                        -0.9645,  7.4639,  2.2833, -9.3906,  6.5914, -4.0147,  9.7689,\n",
       "                         6.6557, -6.3420,  9.4222, -7.0648, -8.3199,  3.5747, -3.8359,\n",
       "                         8.8932,  1.7009, -6.4649, -8.5702,  6.5010, -3.3474,  4.9161,\n",
       "                        -3.8309, -1.9530, -5.0831, -9.6139,  0.7587, -1.4334, -3.0283,\n",
       "                         1.1011, -0.9694,  6.6011,  2.2596, -3.7711, -3.9000,  6.3479,\n",
       "                        -5.6026, -4.5427,  2.8547,  0.8671, -5.5934,  7.7951,  9.6958,\n",
       "                        -2.6851,  6.9509, -1.0821, -5.4085, -2.6538,  2.0170, -7.2144,\n",
       "                         8.9240, -0.6342,  3.3411, -0.8493,  7.4862, -8.0049,  2.8993,\n",
       "                         0.8471,  6.8175, -9.4522,  4.9244, -5.4827,  8.9396, -5.9711,\n",
       "                         3.8386, -7.7805,  7.2773, -5.9503, -4.3560, -0.8385,  3.0136,\n",
       "                         1.3096,  5.7002, -6.7890,  1.8364, -0.7995, -0.4330,  6.4493,\n",
       "                         2.9038, -3.3577],\n",
       "                       [ 0.7031, -8.5718, -6.9043, -6.6184, -5.6878,  5.6919, -4.1067,\n",
       "                         8.5747,  5.5055,  0.0556,  0.7410,  4.2571,  1.6381, -8.4265,\n",
       "                        -5.9701, -5.7800, -7.7549, -4.2397, -4.3107, -7.0864, -9.9103,\n",
       "                         6.3377, -8.1341,  1.4340, -8.3552,  1.8403, -1.5789, -2.1446,\n",
       "                        -3.9397,  5.8132, -3.7241,  0.0131,  8.5993, -5.5700, -2.0987,\n",
       "                        -3.4327, -9.4433, -6.5730,  8.6229, -0.1729,  4.2768, -2.0643,\n",
       "                        -9.7827, -8.1786,  0.9667,  6.1177, -3.9269,  3.4699, -0.0377,\n",
       "                        -8.9841,  8.3337,  0.4305, -4.2422, -8.3846, -8.7317,  9.1407,\n",
       "                         9.9981,  6.6449,  3.3343,  3.9346,  7.2659, -4.2947, -2.2376,\n",
       "                        -2.8702, -5.6980, -1.5867, -4.9109,  5.7367, -0.7343,  4.0572,\n",
       "                         3.1208, -4.3161,  2.5347,  8.7969,  0.0798,  3.2455,  1.7725,\n",
       "                        -7.6927, -8.4106, -1.0053, -9.8770,  7.1410,  5.5989,  0.1226,\n",
       "                         7.5602,  5.3766, -5.5430,  9.2579, -3.8670,  7.2943, -6.4621,\n",
       "                        -2.7213,  0.1774,  8.8875,  1.4823, -3.4570, -7.4227, -2.0977,\n",
       "                        -0.1073, -9.5184],\n",
       "                       [ 9.9707,  8.0587, -6.5190,  0.5223, -1.6317, -6.3873, -6.2082,\n",
       "                        -0.3799, -5.2182, -0.5908,  7.8255, -9.2289, -5.6547,  2.6573,\n",
       "                         8.7123, -9.8458,  1.3553,  7.0823, -3.2536,  6.2803,  7.0738,\n",
       "                         2.9669, -2.0422,  5.2287,  0.0949,  8.2338, -4.8444,  2.2965,\n",
       "                        -1.4146, -3.6111, -1.4374,  1.2534, -0.6962, -8.7430,  2.6090,\n",
       "                         1.5897, -8.9293,  5.7695,  9.0809, -0.2603, -6.5872, -5.1268,\n",
       "                         7.7040, -0.3886,  3.9300, -1.2446, -1.2038,  2.2775,  2.4668,\n",
       "                        -0.2373,  9.7312,  5.4400,  5.1059, -9.4878, -0.5343,  1.5224,\n",
       "                         1.0918,  8.8762, -1.3472, -2.5275, -2.5483,  3.6162,  0.3916,\n",
       "                        -3.1523,  0.4327,  4.0656,  3.7073, -7.4124, -6.2709, -3.9937,\n",
       "                         0.4963,  5.7108, -3.9757,  2.9790, -8.3809,  9.7872, -8.7219,\n",
       "                        -8.4472, -1.6097,  5.3744,  5.5350,  1.5917,  3.7932, -9.8540,\n",
       "                        -1.8085,  1.1066, -9.4202,  6.2179,  3.4597, -8.5600,  0.0169,\n",
       "                         3.3766,  7.0226,  3.0660, -9.6393,  9.9060, -4.0745,  4.2874,\n",
       "                         9.9104, -1.1600],\n",
       "                       [-4.2846, -0.1500,  4.5775,  7.0747,  5.9684, -9.3033,  9.9969,\n",
       "                        -6.4932, -8.5590, -2.2435, -3.4872, -3.2339, -8.2823,  6.4942,\n",
       "                        -6.3241,  2.6564,  0.9333, -4.5913, -5.4545,  1.7589, -6.8033,\n",
       "                         7.5094,  1.7727, -9.2458, -9.8797, -5.6198,  3.0594,  4.4919,\n",
       "                        -3.0577, -3.7864,  7.0013, -9.7907,  0.5380,  6.1976, -9.9262,\n",
       "                         6.5511, -9.2727,  7.4306, -1.0935, -8.2777, -7.1272,  9.8144,\n",
       "                        -9.9352, -4.2972,  5.9868,  5.1079,  5.8266,  2.6688,  1.8306,\n",
       "                        -1.9064, -4.0825, -8.1937, -7.0204, -0.2779, -7.0569, -8.4371,\n",
       "                         0.6261,  7.5744,  0.6059,  9.0734, -9.6562, -6.9730, -6.6547,\n",
       "                        -6.9956, -9.7198, -9.1440, -4.3925, -1.4461, -5.3640, -5.6416,\n",
       "                        -6.9895,  7.0913,  3.8734,  8.7075,  9.9507, -3.0415, -2.3300,\n",
       "                         1.2552, -2.8844,  2.8356,  8.3319,  9.7501,  6.1006,  7.9115,\n",
       "                         5.2303,  0.2841, -2.4704, -1.8485, -8.3920,  7.0219,  8.2074,\n",
       "                        -1.2549, -1.8530, -9.8779, -7.3721,  2.5509,  8.3756, -7.6744,\n",
       "                         3.1827,  5.4908],\n",
       "                       [-9.8076, -9.8188, -7.2139,  1.0275,  8.4291, -6.8158, -4.7271,\n",
       "                        -2.0763,  1.9522, -6.9727,  7.5402, -6.9114,  6.4892,  9.1238,\n",
       "                         3.9984, -0.6007,  8.2171, -5.5957, -1.7514, -7.1069, -0.2625,\n",
       "                         8.2830,  3.6677,  5.7589,  0.3890, -4.7656, -1.2681,  6.2905,\n",
       "                         6.2477,  3.4418,  4.2742,  9.8852,  6.3128, -6.2698,  6.9626,\n",
       "                         1.8538, -9.8720,  0.6529,  5.8508,  9.2047,  0.5189, -0.4329,\n",
       "                        -8.1266,  5.3050,  4.7853, -5.0327,  1.8600, -0.6717, -6.7813,\n",
       "                        -7.2223,  8.3858,  7.7956, -2.2687, -6.6177, -8.3366,  7.5342,\n",
       "                        -1.3391, -1.7368, -7.0127,  9.6272,  5.7730,  3.8717,  5.0894,\n",
       "                        -5.4927, -1.4328, -9.5743,  1.1918,  4.4439, -3.5287, -3.2181,\n",
       "                         6.8136, -0.5874, -1.9440, -8.1804,  8.1525, -6.8968,  3.7696,\n",
       "                         5.2372,  3.2451,  3.6993,  4.7213, -6.5869,  2.2253, -1.6153,\n",
       "                         7.7245, -6.8746,  3.0814, -4.3027, -1.0086,  7.3830, -0.5741,\n",
       "                        -7.9125, -5.2799, -0.4356, -4.2921,  5.6799,  6.0611, -9.4147,\n",
       "                         8.6369, -1.2001],\n",
       "                       [-6.4207,  5.8126,  0.9275,  8.5339,  1.8474,  0.1334,  0.0373,\n",
       "                        -9.7193, -3.4878,  1.6504,  1.8661, -9.1080, -4.7401, -5.3381,\n",
       "                         7.1130,  1.2704, -7.6048, -0.0474, -9.8121,  8.2646,  3.2757,\n",
       "                        -8.9057,  2.9544,  5.1503, -9.0942, -9.5964, -5.8466, -7.9661,\n",
       "                        -7.6146,  5.8830,  0.2539, -8.9061, -4.4160, -6.8049, -6.9390,\n",
       "                        -8.0221, -2.8318, -5.3999,  7.4808,  1.8029, -0.5917,  0.1296,\n",
       "                        -0.5877, -5.3099, -2.8124,  2.4209,  0.0734, -0.9807, -7.9795,\n",
       "                        -1.9597,  0.2955,  8.8583,  6.2602, -2.3611, -4.9299, -2.2100,\n",
       "                         3.9690, -6.8435, -9.1357, -3.4365,  0.5472, -7.8679, -7.9013,\n",
       "                         7.2222,  4.0230, -0.9387, -5.3988,  6.4956, -8.5843, -7.8766,\n",
       "                        -9.9077,  3.3206,  0.5999, -1.9739, -1.3869, -3.3549,  5.7235,\n",
       "                        -5.3277, -4.4667,  7.0270, -6.5422,  3.8786, -4.0185, -8.5545,\n",
       "                        -9.7751,  0.5903,  8.9908,  4.0283,  6.8809, -4.6125,  3.4877,\n",
       "                         6.0350, -2.6520, -4.8609, -6.7769, -1.5569,  0.5473,  3.4595,\n",
       "                         0.6575,  9.1880]])),\n",
       "              ('output.bias',\n",
       "               tensor([-0.1026, -0.1246,  0.0825,  0.1210, -0.0238,  0.0050,  0.0679,\n",
       "                        0.0081,  0.0615,  0.0138]))])}"
      ]
     },
     "execution_count": 13,
     "metadata": {},
     "output_type": "execute_result"
    }
   ],
   "source": [
    "checkpoint = {'input_size': 784,\n",
    "              'output_size': 10,\n",
    "              'hidden_layers': [each.out_features for each in model.hidden_layers],\n",
    "              'state_dict': model.state_dict()}\n",
    "\n",
    "torch.save(checkpoint, 'checkpoint.pth')\n",
    "checkpoint"
   ]
  },
  {
   "cell_type": "markdown",
   "metadata": {},
   "source": [
    "Now the checkpoint has all the necessary information to rebuild the trained model. You can easily make that a function if you want. Similarly, we can write a function to load checkpoints. "
   ]
  },
  {
   "cell_type": "code",
   "execution_count": 14,
   "metadata": {},
   "outputs": [],
   "source": [
    "def load_checkpoint(filepath):\n",
    "    checkpoint = torch.load(filepath)\n",
    "    model = fc_model.Network(checkpoint['input_size'],\n",
    "                             checkpoint['output_size'],\n",
    "                             checkpoint['hidden_layers'])\n",
    "    model.load_state_dict(checkpoint['state_dict'])\n",
    "    \n",
    "    return model"
   ]
  },
  {
   "cell_type": "code",
   "execution_count": 15,
   "metadata": {},
   "outputs": [
    {
     "name": "stdout",
     "output_type": "stream",
     "text": [
      "Network(\n",
      "  (hidden_layers): ModuleList(\n",
      "    (0): Linear(in_features=784, out_features=400, bias=True)\n",
      "    (1): Linear(in_features=400, out_features=200, bias=True)\n",
      "    (2): Linear(in_features=200, out_features=100, bias=True)\n",
      "  )\n",
      "  (output): Linear(in_features=100, out_features=10, bias=True)\n",
      "  (dropout): Dropout(p=0.5)\n",
      ")\n"
     ]
    }
   ],
   "source": [
    "model = load_checkpoint('checkpoint.pth')\n",
    "print(model)"
   ]
  },
  {
   "cell_type": "code",
   "execution_count": null,
   "metadata": {},
   "outputs": [],
   "source": []
  }
 ],
 "metadata": {
  "kernelspec": {
   "display_name": "Python 3",
   "language": "python",
   "name": "python3"
  },
  "language_info": {
   "codemirror_mode": {
    "name": "ipython",
    "version": 3
   },
   "file_extension": ".py",
   "mimetype": "text/x-python",
   "name": "python",
   "nbconvert_exporter": "python",
   "pygments_lexer": "ipython3",
   "version": "3.6.3"
  }
 },
 "nbformat": 4,
 "nbformat_minor": 2
}
